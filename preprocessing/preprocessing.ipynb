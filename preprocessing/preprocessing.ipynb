{
 "cells": [
  {
   "cell_type": "code",
   "execution_count": null,
   "metadata": {},
   "outputs": [],
   "source": [
    "import pandas as pd\n",
    "from pymongo import MongoClient\n",
    "\n",
    "mongo = MongoClient(\"mongodb://localhost:27017/\")\n",
    "collection = mongo[\"MobileGameComments\"][\"BilibiliComments\"]\n",
    "data = [document for document in collection.find()]\n",
    "\n",
    "df = pd.DataFrame(data)\n",
    "df\n"
   ]
  },
  {
   "cell_type": "code",
   "execution_count": null,
   "metadata": {},
   "outputs": [],
   "source": [
    "bdf = df.dropna()\n",
    "del df\n",
    "bdf"
   ]
  },
  {
   "cell_type": "code",
   "execution_count": null,
   "metadata": {},
   "outputs": [],
   "source": [
    "import re\n",
    "\n",
    "def clean(content):\n",
    "  content = re.sub(r\"回复 @.*? :\", \"\", content) # 回复前缀\n",
    "  content = re.sub(r\"\\[.*?\\]\", \"\", content) # 表情\n",
    "  content = re.sub(r\"@.*?\\s+\", \"\", content) # @某人\n",
    "  content = re.sub(r\"[^\\u4e00-\\u9fa5]+\", \"\", content) # 非中文\n",
    "  content = content.strip()\n",
    "  return None if len(content) == 0 else content\n",
    "\n",
    "bdf[\"content\"] = bdf[\"content\"].apply(clean)\n",
    "bdf = bdf.dropna()\n",
    "bdf"
   ]
  },
  {
   "cell_type": "code",
   "execution_count": null,
   "metadata": {},
   "outputs": [],
   "source": [
    "bdf = bdf.drop_duplicates(subset=\"content\")\n",
    "bdf.shape"
   ]
  },
  {
   "cell_type": "code",
   "execution_count": null,
   "metadata": {},
   "outputs": [],
   "source": [
    "collection = mongo[\"MobileGameComments\"][\"WeiboComments\"]\n",
    "data = [document for document in collection.find()]\n",
    "\n",
    "df = pd.DataFrame(data)\n",
    "df"
   ]
  },
  {
   "cell_type": "code",
   "execution_count": null,
   "metadata": {},
   "outputs": [],
   "source": [
    "wdf = df.dropna()\n",
    "del df\n",
    "wdf[\"content\"] = wdf[\"content\"].apply(clean)\n",
    "wdf = wdf.dropna()\n",
    "wdf = wdf.drop_duplicates(subset=\"content\")\n",
    "wdf"
   ]
  },
  {
   "cell_type": "code",
   "execution_count": null,
   "metadata": {},
   "outputs": [],
   "source": [
    "level_weights = (0, 0.6, 0.6, 0.8, 0.9, 1.0, 1.1) # 对应0-6级\n",
    "\n",
    "def weight_map(w):\n",
    "  if w < 50:\n",
    "    return 1\n",
    "  elif w < 200:\n",
    "    return 1.2\n",
    "  elif w < 500:\n",
    "    return 1.4\n",
    "  elif w < 1000:\n",
    "    return 1.6\n",
    "  return 1\n",
    "\n",
    "bdf[\"weight\"] = bdf.apply(lambda row: weight_map(row[\"like\"] * level_weights[row[\"level\"]]) * (1 if row[\"is_root\"] else 0.5), axis=1)\n",
    "wdf[\"weight\"] = wdf[\"likes\"].apply(lambda x: weight_map(x))\n",
    "bdf.head(5)\n"
   ]
  },
  {
   "cell_type": "code",
   "execution_count": null,
   "metadata": {},
   "outputs": [],
   "source": [
    "from datetime import datetime\n",
    "\n",
    "def to_timestamp(x):\n",
    "  time_format = \"%a %b %d %H:%M:%S %z %Y\"\n",
    "  dt = datetime.strptime(x, time_format)\n",
    "  return int(dt.timestamp())\n",
    "\n",
    "\n",
    "wdf[\"time\"] = wdf[\"time\"].apply(to_timestamp)\n",
    "wdf.head(5)"
   ]
  },
  {
   "cell_type": "code",
   "execution_count": null,
   "metadata": {},
   "outputs": [],
   "source": [
    "bilibili_videos = {}\n",
    "weibo_articles = {}\n",
    "cursor = mongo[\"MobileGameComments\"][\"BilibiliVideos\"].find()\n",
    "for docu in cursor:\n",
    "  bilibili_videos[docu[\"_id\"]] = docu[\"author\"]\n",
    "cursor = mongo[\"MobileGameComments\"][\"WeiboArticles\"].find()\n",
    "for docu in cursor:\n",
    "  weibo_articles[docu[\"_id\"]] = docu[\"author\"]\n",
    "\n",
    "bilibili_game_map = {\"网易第五人格手游\": \"第五人格\", \"光遇手游\": \"光遇\", \"Phigros官方\": \"Phigros\", \"韵律源点Arcaea\": \"Arcaea\"}\n",
    "weibo_game_map = {\"明日方舟Arknights\": \"明日方舟\", \"网易第五人格\": \"第五人格\", \"光遇手游\": \"光遇\"}\n",
    "\n",
    "def get_bilibili_game(aid) -> str:\n",
    "  author = bilibili_videos[aid]\n",
    "  return bilibili_game_map.get(author, author)\n",
    "  \n",
    "def get_weibo_game(blogid) -> str:\n",
    "  author = weibo_articles[blogid]\n",
    "  return weibo_game_map.get(author, author)\n",
    "\n",
    "bdf[\"game\"] = bdf[\"aid\"].apply(get_bilibili_game)\n",
    "wdf[\"game\"] = wdf[\"blogid\"].apply(get_weibo_game)\n",
    "bdf"
   ]
  },
  {
   "cell_type": "code",
   "execution_count": null,
   "metadata": {},
   "outputs": [],
   "source": [
    "bdf[\"source\"] = \"Bilibili\"\n",
    "wdf[\"source\"] = \"Weibo\"\n",
    "cols = [\"game\", \"time\", \"weight\", \"content\", \"source\"]\n",
    "mdf = pd.merge(bdf[cols], wdf[cols], on=cols, how=\"outer\")\n",
    "mdf"
   ]
  },
  {
   "cell_type": "code",
   "execution_count": null,
   "metadata": {},
   "outputs": [],
   "source": [
    "def to_month(x):\n",
    "  dt = datetime.fromtimestamp(x)\n",
    "  return int(datetime(dt.year, dt.month, 1).timestamp())\n",
    "\n",
    "mdf[\"time\"] = mdf[\"time\"].apply(to_month)\n",
    "mdf.head(5)"
   ]
  },
  {
   "cell_type": "code",
   "execution_count": null,
   "metadata": {},
   "outputs": [],
   "source": [
    "import os\n",
    "from jieba import cut\n",
    "\n",
    "with open(os.getcwd() + \"\\\\stopwords.txt\", \"r\", encoding=\"utf-8\") as f:\n",
    "  stopwords = set()\n",
    "  for word in f.readlines():\n",
    "    stopwords.add(word.strip())\n",
    "\n",
    "def cut_content(content):\n",
    "  words = cut(content)\n",
    "  res = []\n",
    "  for word in words:\n",
    "    if word not in stopwords:\n",
    "      res.append(word)\n",
    "  return \" \".join(res)\n",
    "\n",
    "mdf[\"words\"] = mdf[\"content\"].apply(cut_content)\n",
    "mdf\n"
   ]
  },
  {
   "cell_type": "code",
   "execution_count": null,
   "metadata": {},
   "outputs": [],
   "source": [
    "with open(os.getcwd() + \"\\\\程度副词.txt\", \"r\", encoding=\"utf-8\") as f:\n",
    "  advs = frozenset(l.strip() for l in f)\n",
    "with open(os.getcwd() + \"\\\\否定词.txt\", \"r\", encoding=\"utf-8\") as f:\n",
    "  nots = frozenset(l.strip() for l in f)\n",
    "with open(os.getcwd() + \"\\\\负面情绪词.txt\", \"r\", encoding=\"utf-8\") as f:\n",
    "  bads = frozenset(l.strip() for l in f)\n",
    "with open(os.getcwd() + \"\\\\正面情绪词.txt\", \"r\", encoding=\"utf-8\") as f:\n",
    "  goods = frozenset(l.strip() for l in f)\n",
    "\n",
    "def get_emotion(sentence: str):\n",
    "  words = sentence.split()\n",
    "  emo = 0\n",
    "  for word in words:\n",
    "    w = 1\n",
    "    if word in advs:\n",
    "      w *= 1.2\n",
    "    elif word in nots:\n",
    "      w *= -1\n",
    "    elif word in bads:\n",
    "      emo += w * -1\n",
    "      w = 0\n",
    "    elif word in goods:\n",
    "      emo += w\n",
    "      w = 0\n",
    "  return emo\n",
    "\n",
    "mdf[\"emotion\"] = mdf[\"words\"].apply(get_emotion)\n",
    "mdf"
   ]
  },
  {
   "cell_type": "code",
   "execution_count": 17,
   "metadata": {},
   "outputs": [],
   "source": [
    "mdf.to_csv(os.getcwd() + \"\\\\mdf.csv\", index=False)"
   ]
  },
  {
   "cell_type": "code",
   "execution_count": null,
   "metadata": {},
   "outputs": [],
   "source": [
    "bmdf = mdf[mdf[\"source\"] == \"Bilibili\"]\n",
    "grouped = bmdf.groupby([\"game\", \"time\"]).apply(\n",
    "  lambda x: (x[\"emotion\"] * x[\"weight\"]).sum() / x.shape[0]\n",
    ").reset_index(name=\"emotion\")\n",
    "collection = mongo[\"MobileGameComments\"][\"BilibiliResult\"]\n",
    "data = grouped.to_dict(orient=\"records\")\n",
    "collection.insert_many(data)\n"
   ]
  },
  {
   "cell_type": "code",
   "execution_count": null,
   "metadata": {},
   "outputs": [],
   "source": [
    "wmdf = mdf[mdf[\"source\"] == \"Weibo\"]\n",
    "grouped = wmdf.groupby([\"game\", \"time\"]).apply(\n",
    "  lambda x: (x[\"emotion\"] * x[\"weight\"]).sum() / x.shape[0]\n",
    ").reset_index(name=\"emotion\")\n",
    "mongo = MongoClient()\n",
    "collection = mongo[\"MobileGameComments\"][\"WeiboResult\"]\n",
    "data = grouped.to_dict(orient=\"records\")\n",
    "collection.insert_many(data)"
   ]
  },
  {
   "cell_type": "code",
   "execution_count": null,
   "metadata": {},
   "outputs": [],
   "source": [
    "grouped = mdf.groupby([\"game\", \"time\"]).apply(\n",
    "  lambda x: (x[\"emotion\"] * x[\"weight\"]).sum() / x.shape[0]\n",
    ").reset_index(name=\"emotion\")\n",
    "mongo = MongoClient()\n",
    "collection = mongo[\"MobileGameComments\"][\"Result\"]\n",
    "data = grouped.to_dict(orient=\"records\")\n",
    "collection.insert_many(data)\n"
   ]
  }
 ],
 "metadata": {
  "kernelspec": {
   "display_name": ".venv",
   "language": "python",
   "name": "python3"
  },
  "language_info": {
   "codemirror_mode": {
    "name": "ipython",
    "version": 3
   },
   "file_extension": ".py",
   "mimetype": "text/x-python",
   "name": "python",
   "nbconvert_exporter": "python",
   "pygments_lexer": "ipython3",
   "version": "3.13.1"
  }
 },
 "nbformat": 4,
 "nbformat_minor": 2
}
